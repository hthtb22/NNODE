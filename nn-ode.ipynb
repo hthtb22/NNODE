{
  "nbformat": 4,
  "nbformat_minor": 0,
  "metadata": {
    "colab": {
      "name": "Untitled2.ipynb",
      "provenance": [],
      "collapsed_sections": []
    },
    "kernelspec": {
      "name": "python3",
      "display_name": "Python 3"
    }
  },
  "cells": [
    {
      "cell_type": "code",
      "metadata": {
        "id": "l3tsWjF6iV2y"
      },
      "source": [
        ""
      ],
      "execution_count": null,
      "outputs": []
    },
    {
      "cell_type": "markdown",
      "metadata": {
        "id": "rFZ08gUfIkJL"
      },
      "source": [
        "# **Using neural network to solve ODE**"
      ]
    },
    {
      "cell_type": "markdown",
      "metadata": {
        "id": "vsVB7ViZIkDx"
      },
      "source": [
        "**Example 1:** Solve the following ODE:\r\n",
        "$$y'(x)=-22(x-1)y(x), \\quad y(0)=e^{-7}.$$\r\n",
        "The exact solution is $y(x)=e^{4-(11-x)^2}$"
      ]
    },
    {
      "cell_type": "markdown",
      "metadata": {
        "id": "GPXWATb0JYdC"
      },
      "source": [
        "**Method:** We will try to optimize a loss function to force it match where the loss function is defined by the equation and the initial condition(s). The model is adapted from the deep network model.<br>\r\n",
        "In this example we use 1 hidden fully connected hidden layer(size 10) network"
      ]
    },
    {
      "cell_type": "markdown",
      "metadata": {
        "id": "vZYrHnwNKRJR"
      },
      "source": [
        "![nn.png](data:image/png;base64,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)"
      ]
    },
    {
      "cell_type": "code",
      "metadata": {
        "id": "XQHuQUx6EFn8"
      },
      "source": [
        "import jax.numpy as np\r\n",
        "from jax import grad, jit, vmap\r\n",
        "from jax import random\r\n",
        "import numpy as onp"
      ],
      "execution_count": 43,
      "outputs": []
    },
    {
      "cell_type": "code",
      "metadata": {
        "id": "P85y_9bPK6fd"
      },
      "source": [
        "#Define the relu function.\r\n",
        "def relu(x):\r\n",
        "  return np.where(x > 0, x, 0.0)\r\n",
        "# Define the f function\r\n",
        "def f(y,x):\r\n",
        "  return -22*(x-1)*y\r\n",
        "\r\n",
        "#From weights and bias (params)and the input (x) compute the output\r\n",
        "def neural_network(params, x):\r\n",
        "    w0 = params[:10]\r\n",
        "    b0 = params[10:20]\r\n",
        "    w1 = params[20:30]    \r\n",
        "    b1 = params[30]\r\n",
        "    x = relu(x*w0 + b0) \r\n",
        "    x = np.sum(x*w1) + b1\r\n",
        "    return x"
      ],
      "execution_count": 44,
      "outputs": []
    },
    {
      "cell_type": "code",
      "metadata": {
        "id": "GkhdvGJkK7Nr"
      },
      "source": [
        "#Initialization\r\n",
        "T=2\r\n",
        "N=10 # Number of hidden layers\r\n",
        "t=np.linspace(0, T, N+1) \r\n",
        "x=onp.zeros(N+1) ##\r\n",
        "s=onp.zeros(N+1) ## slope vector\r\n",
        "x[0]=np.exp(-7)\r\n",
        "a1 = onp.ones(N)\r\n",
        "b1 = - t[0:N]\r\n",
        "a2 = onp.zeros(N)\r\n",
        "## Explicit Euler method initilazation\r\n",
        "for i in range(1,N+1):\r\n",
        "  s[i]=f(x[i-1],t[i-1])\r\n",
        "  x[i]=x[i-1]+T/N * s[i]\r\n",
        "for i in range(N):\r\n",
        "  a2[i] = s[i+1]-s[i]\r\n",
        "b2 = np.exp(-7)\r\n",
        "w1 = np.concatenate((a1,b1) , axis = None)\r\n",
        "w2 = np.concatenate((a2,b2) , axis = None)\r\n",
        "params = np.concatenate((w1,w2) , axis = None)"
      ],
      "execution_count": 64,
      "outputs": []
    },
    {
      "cell_type": "code",
      "metadata": {
        "colab": {
          "base_uri": "https://localhost:8080/"
        },
        "id": "GElFGXJrPK9D",
        "outputId": "30b2dd2c-963d-464f-e60b-fd4e941596e1"
      },
      "source": [
        "print(a1,a2,b1,b2)"
      ],
      "execution_count": 73,
      "outputs": [
        {
          "output_type": "stream",
          "text": [
            "[1. 1. 1. 1. 1. 1. 1. 1. 1. 1.] [ 0.0200614   0.06660386  0.20712999  0.41914782  0.27091837 -0.98386145\n",
            " -1.84965992  1.40574232  0.94998363 -1.61266369] [-0.  -0.2 -0.4 -0.6 -0.8 -1.  -1.2 -1.4 -1.6 -1.8] 0.000911882\n"
          ],
          "name": "stdout"
        }
      ]
    },
    {
      "cell_type": "code",
      "metadata": {
        "id": "uX32L6jRMXrV"
      },
      "source": [
        "# Solving the ODE in the closed interval [0;2] with the number of time interval:10\r\n",
        "inputs = np.linspace(0., 2., num=11) ### Note that: The number of hiddens layers must be equal to the number of time intervals (in this method)\r\n",
        "\r\n",
        "# Vectorize those functions using vmap\r\n",
        "\r\n",
        "f_vect = vmap(neural_network, (None, 0)) #(None, 0) specifies that each function is to be mapped over the 0-axis of the second argument (x)\r\n",
        "\r\n"
      ],
      "execution_count": 65,
      "outputs": []
    },
    {
      "cell_type": "code",
      "metadata": {
        "id": "dEDMpIrdHSei"
      },
      "source": [
        "#Define the loss function\r\n",
        "def loss(params,t):\r\n",
        "  N=10;\r\n",
        "  x= f_vect(params, t)\r\n",
        "  ## Gaussian quadrature coeffcients\r\n",
        "  r0=0.5*(1-1/np.sqrt(3))\r\n",
        "  r1=0.5*(1+1/np.sqrt(3))\r\n",
        "  err= x[1:]-x[:N]-0.1*(f(r0*x[:N]+(1-r0)*x[1:],  r0*t[:N]+(1-r0) *t[1:]) + f(r1*x[:N]+(1-r1)*x[1:],  r1*t[:N]+(1-r1) *t[1:]) )\r\n",
        "  ## Regularization\r\n",
        "  y=1/(np.sqrt(x[1:]**2+1))\r\n",
        "  return np.sum(y*(err**2));"
      ],
      "execution_count": 66,
      "outputs": []
    },
    {
      "cell_type": "code",
      "metadata": {
        "colab": {
          "base_uri": "https://localhost:8080/"
        },
        "id": "-QcPcjJBLd3O",
        "outputId": "10d0d0fc-23b4-4c76-bc5b-cd501a31bdf5"
      },
      "source": [
        "loss(params, inputs)"
      ],
      "execution_count": 67,
      "outputs": [
        {
          "output_type": "execute_result",
          "data": {
            "text/plain": [
              "DeviceArray(0.2568314, dtype=float32)"
            ]
          },
          "metadata": {
            "tags": []
          },
          "execution_count": 67
        }
      ]
    },
    {
      "cell_type": "code",
      "metadata": {
        "id": "mbTWpgPKOCuH"
      },
      "source": [
        "grad_loss = jit(grad(loss, 0)) # JIT (just-in-time compilation) on this function to speed up its execution on accelerator hardware if available."
      ],
      "execution_count": 68,
      "outputs": []
    },
    {
      "cell_type": "code",
      "metadata": {
        "colab": {
          "base_uri": "https://localhost:8080/"
        },
        "id": "rzBVTQ3u6gil",
        "outputId": "ef764ede-5a9b-4ee3-d148-ae26c58f9404"
      },
      "source": [
        "#Gradient desent\r\n",
        "epochs =1000\r\n",
        "learning_rate = 0.001\r\n",
        "\r\n",
        "for epoch in range(epochs):\r\n",
        "    if epoch % 100 == 0:\r\n",
        "        print('epoch: %3d loss: %.6f' % (epoch, loss(params, inputs)))\r\n",
        "    gradient = grad_loss(params , inputs)\r\n",
        "    params = params - learning_rate*gradient"
      ],
      "execution_count": 69,
      "outputs": [
        {
          "output_type": "stream",
          "text": [
            "epoch:   0 loss: 0.256831\n",
            "epoch: 100 loss: 4.175790\n",
            "epoch: 200 loss: 1.286085\n",
            "epoch: 300 loss: 0.405849\n",
            "epoch: 400 loss: 0.135353\n",
            "epoch: 500 loss: 0.065465\n",
            "epoch: 600 loss: 0.040377\n",
            "epoch: 700 loss: 0.038567\n",
            "epoch: 800 loss: 0.036085\n",
            "epoch: 900 loss: 0.030556\n"
          ],
          "name": "stdout"
        }
      ]
    },
    {
      "cell_type": "code",
      "metadata": {
        "colab": {
          "base_uri": "https://localhost:8080/",
          "height": 265
        },
        "id": "rdJyP_sTOLix",
        "outputId": "2ccad1d9-720c-4e44-8697-3536f3d31ce3"
      },
      "source": [
        "import matplotlib.pyplot as plt\r\n",
        "\r\n",
        "plt.plot(inputs, np.exp(4-11*(inputs-1)**2), label='exact')\r\n",
        "plt.plot(inputs, f_vect(params, inputs), label='approx')\r\n",
        "plt.legend()\r\n",
        "plt.show()"
      ],
      "execution_count": 70,
      "outputs": [
        {
          "output_type": "display_data",
          "data": {
            "image/png": "[encoded data removed]",
            "text/plain": [
              "<Figure size 432x288 with 1 Axes>"
            ]
          },
          "metadata": {
            "tags": [],
            "needs_background": "light"
          }
        }
      ]
    },
    {
      "cell_type": "code",
      "metadata": {
        "id": "ZKCi5nnjgxKu",
        "colab": {
          "base_uri": "https://localhost:8080/"
        },
        "outputId": "feb44a18-b2d4-47dc-9e0d-f812ac2d071c"
      },
      "source": [
        "f_vect(params, inputs)"
      ],
      "execution_count": 71,
      "outputs": [
        {
          "output_type": "execute_result",
          "data": {
            "text/plain": [
              "DeviceArray([-0.00163124, -0.00165565,  0.00115809,  0.01834308,\n",
              "              0.07755169,  0.1321478 ,  0.10644931,  0.02576813,\n",
              "             -0.03208586, -0.0235736 , -0.03371829], dtype=float32)"
            ]
          },
          "metadata": {
            "tags": []
          },
          "execution_count": 71
        }
      ]
    }
  ]
}